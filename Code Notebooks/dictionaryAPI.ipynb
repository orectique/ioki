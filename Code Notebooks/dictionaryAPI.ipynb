{
 "cells": [
  {
   "cell_type": "code",
   "execution_count": 1,
   "metadata": {},
   "outputs": [
    {
     "data": {
      "text/plain": [
       "True"
      ]
     },
     "execution_count": 1,
     "metadata": {},
     "output_type": "execute_result"
    }
   ],
   "source": [
    "import os\n",
    "import requests\n",
    "import json\n",
    "import webbrowser\n",
    "from dotenv import load_dotenv\n",
    "\n",
    "load_dotenv()"
   ]
  },
  {
   "cell_type": "code",
   "execution_count": 2,
   "metadata": {},
   "outputs": [],
   "source": [
    "DIC_API_KEY = os.getenv(\"DICTIONARY_KEY\")"
   ]
  },
  {
   "cell_type": "code",
   "execution_count": 16,
   "metadata": {},
   "outputs": [],
   "source": [
    "word = 'bust'\n",
    "\n",
    "url = f'https://www.dictionaryapi.com/api/v3/references/collegiate/json/{word.lower()}?key={DIC_API_KEY}'"
   ]
  },
  {
   "cell_type": "code",
   "execution_count": 17,
   "metadata": {},
   "outputs": [],
   "source": [
    "response = requests.get(url)"
   ]
  },
  {
   "cell_type": "code",
   "execution_count": 18,
   "metadata": {},
   "outputs": [],
   "source": [
    "data = response.json()"
   ]
  },
  {
   "cell_type": "code",
   "execution_count": 19,
   "metadata": {},
   "outputs": [
    {
     "data": {
      "text/plain": [
       "[{'meta': {'id': 'bust:1',\n",
       "   'uuid': 'f3170947-d079-4d63-a4e2-3f77387773d2',\n",
       "   'sort': '020505700',\n",
       "   'src': 'collegiate',\n",
       "   'section': 'alpha',\n",
       "   'stems': ['bust', 'busts'],\n",
       "   'offensive': False},\n",
       "  'hom': 1,\n",
       "  'hwi': {'hw': 'bust',\n",
       "   'prs': [{'mw': 'ˈbəst',\n",
       "     'sound': {'audio': 'bust_101', 'ref': 'c', 'stat': '1'}}]},\n",
       "  'fl': 'noun',\n",
       "  'def': [{'sseq': [[['sense',\n",
       "       {'sn': '1',\n",
       "        'sls': ['art'],\n",
       "        'dt': [['text',\n",
       "          '{bc}a sculptured representation of the upper part of the human figure including the head and neck and usually part of the shoulders and breast '],\n",
       "         ['vis',\n",
       "          [{'t': 'has a {wi}bust{/wi} of Abraham Lincoln in his office'}]]]}]],\n",
       "     [['sense',\n",
       "       {'sn': '2',\n",
       "        'dt': [['text',\n",
       "          '{bc}the upper part of the human torso between neck and waist']],\n",
       "        'sdsense': {'sd': 'especially',\n",
       "         'dt': [['text', '{bc}the breasts of a woman '],\n",
       "          ['vis', [{'t': 'her {wi}bust{/wi} size'}]]]}}]]]}],\n",
       "  'et': [['text',\n",
       "    'borrowed from French & Italian; French {it}buste{/it} \"part of the torso above the waist,\" going back to Middle French, borrowed from Italian {it}busto{/it} \"tree trunk\" (15th-century Upper Italian), \"part of the torso above the waist, corset, sculpture or painting representing the head and upper body,\" going back to Vulgar Latin {it}*būstis{/it} \"trunk,\" perhaps alteration of Latin {it}fūstis{/it} \"stick, rod, cudgel\" by crossing with a Celtic word of like meaning'],\n",
       "   ['et_snote',\n",
       "    [['t',\n",
       "      'Outcomes of {it}*būstis{/it} in Italy with the meaning \"trunk\" are attested in Upper Italian and to a limited degree in the south (see {it}Lessico etimologico italiano{/it}); outside of Italy compare Old Occitan {it}bustz{/it} \"torso,\" Romansh (Engadine) {it}büst,{/it} (Surselvan [dialect of the upper Rhine]) {it}best{/it} \"tree trunk, torso, body, bodice,\" Romanian {it}buşteán{/it} \"tree trunk.\" The traditional etymology of Italian {it}busto{/it} connects it with classical Latin {it}bustum{/it} \"funeral pyre, burial mound\" but the improbable notion of a transfer in sense from \"burial mound\" to \"representation of the upper body\" is not supported by the Romance evidence, which shows a clear progression \"tree trunk\" > \"trunk of the body.\"']]]],\n",
       "  'date': '1645{ds||1||}',\n",
       "  'shortdef': ['a sculptured representation of the upper part of the human figure including the head and neck and usually part of the shoulders and breast',\n",
       "   'the upper part of the human torso between neck and waist; especially : the breasts of a woman']},\n",
       " {'meta': {'id': 'bust:2',\n",
       "   'uuid': '7a3f4729-000d-48ea-92cf-b6eda1caeaf5',\n",
       "   'sort': '020505800',\n",
       "   'src': 'collegiate',\n",
       "   'section': 'alpha',\n",
       "   'stems': ['bust', 'busted', 'busting', 'busts'],\n",
       "   'offensive': False},\n",
       "  'hom': 2,\n",
       "  'hwi': {'hw': 'bust'},\n",
       "  'fl': 'verb',\n",
       "  'ins': [{'if': 'bust*ed'}, {'il': 'also', 'if': 'bust'}, {'if': 'bust*ing'}],\n",
       "  'def': [{'vd': 'transitive verb',\n",
       "    'sseq': [[['sense',\n",
       "       {'sn': '1 a',\n",
       "        'dt': [['text', '{bc}to break or smash especially with force '],\n",
       "         ['vis', [{'t': '{wi}bust{/wi} a window'}]]],\n",
       "        'sdsense': {'sd': 'also',\n",
       "         'dt': [['text', '{bc}to make inoperative '],\n",
       "          ['vis', [{'t': '{wi}busted{/wi} my watch'}]]]}}],\n",
       "      ['sense',\n",
       "       {'sn': 'b',\n",
       "        'dt': [['text', '{bc}to bring an end to {bc}{sx|break up||} '],\n",
       "         ['vis',\n",
       "          [{'t': 'helped {wi}bust{/wi} trusts',\n",
       "            'aq': {'source': '{it}Newsweek{/it}'}}]],\n",
       "         ['uns',\n",
       "          [[['text', 'often used with {it}up{/it} '],\n",
       "            ['vis',\n",
       "             [{'t': 'better not try to {wi}bust{/wi} up his happy marriage',\n",
       "               'aq': {'source': '{it}Forbes{/it}'}}]]]]]]}],\n",
       "      ['sense',\n",
       "       {'sn': 'c',\n",
       "        'dt': [['text', '{bc}to ruin financially '],\n",
       "         ['vis',\n",
       "          [{'t': 'the game of cheaters, which has {wi}busted{/wi} more men than blackjack',\n",
       "            'aq': {'auth': 'Arthur Mayse'}}]]]}],\n",
       "      ['sense',\n",
       "       {'sn': 'd',\n",
       "        'dt': [['text', '{bc}{sx|exhaust||}, {sx|wear out||} '],\n",
       "         ['uns',\n",
       "          [[['text',\n",
       "             \"used in phrases like {it}bust one's butt{/it} to describe making a strenuous effort\"]]]]]}],\n",
       "      ['sense',\n",
       "       {'sn': 'e',\n",
       "        'dt': [['text', '{bc}to tease or give a hard time to '],\n",
       "         ['uns',\n",
       "          [[['text', \"often used in phrases like {it}bust one's chops{/it} \"],\n",
       "            ['vis', [{'t': \"I'm just {wi}busting{/wi} your chops.\"}]]]]]]}]],\n",
       "     [['sense',\n",
       "       {'sn': '2',\n",
       "        'dt': [['text', '{bc}{sx|tame||} '],\n",
       "         ['vis', [{'t': 'bronco {wi}busting{/wi}'}]]]}]],\n",
       "     [['sense',\n",
       "       {'sn': '3',\n",
       "        'dt': [['text', '{bc}{sx|demote||} '],\n",
       "         ['vis',\n",
       "          [{'t': '{wi}busted{/wi} them to the bottom of the seniority list',\n",
       "            'aq': {'source': '{it}Time{/it}'}}]]]}]],\n",
       "     [['sen', {'sn': '4', 'sls': ['slang']}],\n",
       "      ['sense',\n",
       "       {'sn': 'a',\n",
       "        'dt': [['text', '{bc}{sx|arrest||} '],\n",
       "         ['vis',\n",
       "          [{'t': '{wi}busted{/wi} for carrying guns',\n",
       "            'aq': {'auth': 'Saul Gottlieb'}}]]]}],\n",
       "      ['sense',\n",
       "       {'sn': 'b',\n",
       "        'dt': [['text', '{bc}{sx|raid||} '],\n",
       "         ['vis', [{'t': '{wi}busted{/wi} the apartment'}]]]}]],\n",
       "     [['sense',\n",
       "       {'sn': '5',\n",
       "        'dt': [['text', '{bc}{sx|hit||}, {sx|slug||} '],\n",
       "         ['vis', [{'t': 'felt like {wi}busting{/wi} him in the face'}]]]}]],\n",
       "     [['sense',\n",
       "       {'sn': '6',\n",
       "        'sls': ['informal'],\n",
       "        'dt': [['text',\n",
       "          '{bc}to execute or perform (a difficult, elaborate, or acrobatic movement, as when dancing) '],\n",
       "         ['vis',\n",
       "          [{'t': '{wi}bust{/wi} a dance move'},\n",
       "           {'t': \"Hot Hot Heat's jittery, caffeinated rhythms and disco grooves are helping persuade punk kids to {wi}bust{/wi} a move …\",\n",
       "            'aq': {'auth': 'Christian Hoard'}}]]]}]]]},\n",
       "   {'vd': 'intransitive verb',\n",
       "    'sseq': [[['sense', {'sn': '1', 'dt': [['text', '{bc}to go broke']]}]],\n",
       "     [['sense',\n",
       "       {'sn': '2 a',\n",
       "        'dt': [['text', '{bc}{sx|burst||} '],\n",
       "         ['vis', [{'t': 'laughing fit to {wi}bust{/wi}'}]]]}],\n",
       "      ['sense',\n",
       "       {'sn': 'b',\n",
       "        'dt': [['text', '{bc}{sx|break down||} '],\n",
       "         ['vis', [{'t': 'Her camera {wi}busted{/wi}.'}]]]}]],\n",
       "     [['sense',\n",
       "       {'sn': '3 a',\n",
       "        'sls': ['card games'],\n",
       "        'dt': [['text',\n",
       "          '{bc}to lose at cards by exceeding a limit (such as the count of 21 in {d_link|blackjack|blackjack:1})']]}],\n",
       "      ['sense',\n",
       "       {'sn': 'b',\n",
       "        'sls': ['poker'],\n",
       "        'dt': [['text',\n",
       "          '{bc}to fail to complete a straight {dx_def}see {dxt|straight:4||3}{/dx_def} or {d_link|flush|flush:2}']]}]]]}],\n",
       "  'et': [['text',\n",
       "    'variant of {et_link|burst:1|burst:1} with assimilatory loss of /r/ before /s/'],\n",
       "   ['et_snote', [['t', 'See note at {et_link|hoss|hoss}']]]],\n",
       "  'date': '1639{ds|i|2||}',\n",
       "  'shortdef': ['to break or smash especially with force; also : to make inoperative',\n",
       "   'to bring an end to : break up —often used with up',\n",
       "   'to ruin financially']},\n",
       " {'meta': {'id': 'bust:3',\n",
       "   'uuid': '47e81566-2265-4710-a6c2-a427ae4f16bc',\n",
       "   'sort': '020505900',\n",
       "   'src': 'collegiate',\n",
       "   'section': 'alpha',\n",
       "   'stems': ['bust', 'busts'],\n",
       "   'offensive': False},\n",
       "  'hom': 3,\n",
       "  'hwi': {'hw': 'bust'},\n",
       "  'fl': 'noun',\n",
       "  'def': [{'sseq': [[['sense',\n",
       "       {'sn': '1 a', 'dt': [['text', '{bc}{sx|spree||}']]}],\n",
       "      ['sense',\n",
       "       {'sn': 'b',\n",
       "        'dt': [['text', '{bc}a hearty drinking session '],\n",
       "         ['vis', [{'t': 'a beer {wi}bust{/wi}'}]]]}]],\n",
       "     [['sense',\n",
       "       {'sn': '2 a',\n",
       "        'dt': [['text', '{bc}a complete failure {bc}{sx|flop||}']]}],\n",
       "      ['sense',\n",
       "       {'sn': 'b',\n",
       "        'sls': ['economics'],\n",
       "        'dt': [['text',\n",
       "          '{bc}a business depression {dx_def}see {dxt|depression||2}{/dx_def} '],\n",
       "         ['vis', [{'t': 'boom and {wi}bust{/wi}'}]]]}]],\n",
       "     [['sense',\n",
       "       {'sn': '3',\n",
       "        'dt': [['text', '{bc}{sx|punch||}, {sx|sock||} '],\n",
       "         ['vis',\n",
       "          [{'t': 'a good {wi}bust{/wi} on the nose',\n",
       "            'aq': {'auth': 'J. T. Farrell'}}]]]}]],\n",
       "     [['sen', {'sn': '4', 'sls': ['law enforcement', 'slang']}],\n",
       "      ['sense',\n",
       "       {'sn': 'a',\n",
       "        'dt': [['text',\n",
       "          '{bc}a police raid {dx_def}see {dxt|raid:1||2b}{/dx_def}']]}],\n",
       "      ['sense',\n",
       "       {'sn': 'b',\n",
       "        'dt': [['text', '{bc}{sx|arrest||1} '],\n",
       "         ['vis', [{'t': 'made a couple of drug {wi}busts{/wi}'}]]]}]]]}],\n",
       "  'et': [['text', 'derivative of {et_link|bust:2|bust:2}']],\n",
       "  'date': '1834{ds||1|b|}',\n",
       "  'shortdef': ['spree',\n",
       "   'a hearty drinking session',\n",
       "   'a complete failure : flop']},\n",
       " {'meta': {'id': 'bust:4',\n",
       "   'uuid': '82dbf1b4-8a7b-4b30-a93b-6f405f8a1aae',\n",
       "   'sort': '020506000',\n",
       "   'src': 'collegiate',\n",
       "   'section': 'alpha',\n",
       "   'stems': ['bust', 'busted'],\n",
       "   'offensive': False},\n",
       "  'hom': 4,\n",
       "  'hwi': {'hw': 'bust'},\n",
       "  'vrs': [{'vl': 'or',\n",
       "    'va': 'bust*ed',\n",
       "    'prs': [{'mw': 'ˈbə-stəd',\n",
       "      'sound': {'audio': 'bust_401', 'ref': 'c', 'stat': '1'}}]}],\n",
       "  'fl': 'adjective',\n",
       "  'def': [{'sseq': [[['sense',\n",
       "       {'sls': ['economics'],\n",
       "        'dt': [['text', '{bc}{sx|bankrupt||}, {sx|broke||} '],\n",
       "         ['vis', [{'t': 'go {wi}bust{/wi}'}]]]}]]]}],\n",
       "  'et': [['text', 'from predicative use of {et_link|bust:3|bust:3}']],\n",
       "  'date': '1836',\n",
       "  'shortdef': ['bankrupt, broke']},\n",
       " {'meta': {'id': \"bust a/one's gut\",\n",
       "   'uuid': '88fd62c6-cf25-4d9e-8ec3-80839bd4b900',\n",
       "   'sort': '3002568000',\n",
       "   'src': 'ld',\n",
       "   'section': 'idioms',\n",
       "   'stems': ['bust a gut',\n",
       "    \"bust a/one's gut\",\n",
       "    'bust her gut',\n",
       "    'bust his gut',\n",
       "    \"bust one's gut\",\n",
       "    'bust their gut'],\n",
       "   'offensive': False},\n",
       "  'hwi': {'hw': \"bust a/one's gut\"},\n",
       "  'fl': 'idiom',\n",
       "  'def': [{'sls': ['informal'],\n",
       "    'sseq': [[['sense',\n",
       "       {'sn': '1',\n",
       "        'dt': [['text', '{bc}to work or try extremely hard '],\n",
       "         ['vis',\n",
       "          [{'t': \"We're going to have to {it}bust our guts{/it} to finish this project on time.\"}]]]}]],\n",
       "     [['sense',\n",
       "       {'sn': '2',\n",
       "        'dt': [['text', '{bc}to laugh in an uncontrolled way '],\n",
       "         ['vis',\n",
       "          [{'t': \"I thought I'd {it}bust a gut{/it} (laughing) when you showed up in that silly outfit.\"}]]]}]]]}],\n",
       "  'shortdef': ['to work or try extremely hard',\n",
       "   'to laugh in an uncontrolled way']},\n",
       " {'meta': {'id': 'bust out',\n",
       "   'uuid': 'f427e025-199d-4f9e-8704-c8b969ab0fd4',\n",
       "   'sort': '3002569000',\n",
       "   'src': 'ld',\n",
       "   'section': 'idioms',\n",
       "   'stems': ['bust (something) out',\n",
       "    'bust out',\n",
       "    'bust out (something)',\n",
       "    'bust out something',\n",
       "    'bust something out',\n",
       "    'busted out',\n",
       "    'busting out',\n",
       "    'busts out'],\n",
       "   'offensive': False},\n",
       "  'hwi': {'hw': 'bust out'},\n",
       "  'fl': 'phrasal verb',\n",
       "  'ins': [{'if': 'bust*ed out'},\n",
       "   {'il': 'also', 'if': 'bust out'},\n",
       "   {'if': 'bust*ing out'},\n",
       "   {'if': 'busts out'}],\n",
       "  'def': [{'sls': ['informal'],\n",
       "    'sseq': [[['sense',\n",
       "       {'sn': '1',\n",
       "        'dt': [['text', '{bc}to begin (doing something) suddenly '],\n",
       "         ['vis', [{'t': 'She just {it}busted out{/it} laughing.'}]]]}]],\n",
       "     [['sense',\n",
       "       {'sn': '2',\n",
       "        'vrs': [{'va': 'bust out (something)'},\n",
       "         {'vl': 'or', 'va': 'bust (something) out'}],\n",
       "        'dt': [['text',\n",
       "          '{bc}to take (something) from the place where it is stored so that it can be used {bc}to break out '],\n",
       "         ['vis', [{'t': 'He {it}busted out{/it} the champagne.'}]]]}]],\n",
       "     [['sense',\n",
       "       {'sn': '3',\n",
       "        'dt': [['text', '{bc}to escape from a prison, jail, etc. '],\n",
       "         ['vis', [{'t': 'Two prisoners {it}busted out{/it} of jail.'}]]]}]]]}],\n",
       "  'shortdef': ['to begin (doing something) suddenly',\n",
       "   'to take (something) from the place where it is stored so that it can be used : to break out',\n",
       "   'to escape from a prison, jail, etc.']},\n",
       " {'meta': {'id': \"bust someone's chops\",\n",
       "   'uuid': '7524fe9f-fa06-4637-a322-b8851ad332a9',\n",
       "   'sort': '3002570000',\n",
       "   'src': 'ld',\n",
       "   'section': 'idioms',\n",
       "   'stems': [\"bust someone's chops\"],\n",
       "   'offensive': False},\n",
       "  'hwi': {'hw': \"bust someone's chops\"},\n",
       "  'fl': 'idiom',\n",
       "  'def': [{'sseq': [[['sense',\n",
       "       {'dt': [['text',\n",
       "          '{bc}to criticize someone in a playful way {bc}tease '],\n",
       "         ['vis',\n",
       "          [{'t': 'My brother likes to {it}bust my chops{/it}.'}]]]}]]]}],\n",
       "  'shortdef': ['to criticize someone in a playful way : tease']},\n",
       " {'meta': {'id': 'bust up',\n",
       "   'uuid': '2d8b72b3-1f45-4299-99e2-0aeade31d88e',\n",
       "   'sort': '3002571000',\n",
       "   'src': 'ld',\n",
       "   'section': 'idioms',\n",
       "   'stems': ['bust up', 'busted up', 'busting up', 'busts up'],\n",
       "   'offensive': False},\n",
       "  'hwi': {'hw': 'bust up'},\n",
       "  'fl': 'phrasal verb',\n",
       "  'ins': [{'if': 'bust*ed up'},\n",
       "   {'il': 'also', 'if': 'bust up'},\n",
       "   {'if': 'bust*ing up'},\n",
       "   {'if': 'busts up'}],\n",
       "  'def': [{'sls': ['informal'],\n",
       "    'sseq': [[['sense',\n",
       "       {'sn': '1',\n",
       "        'dt': [['text', '{bc}to end a relationship with someone '],\n",
       "         ['vis',\n",
       "          [{'t': 'Their marriage {it}busted up{/it} after three years.'},\n",
       "           {'t': \"Didn't you hear? They {it}busted up{/it}.\"}]]]}]],\n",
       "     [['sense',\n",
       "       {'sn': '2',\n",
       "        'dt': [['text', '{bc}to cause (something) to end '],\n",
       "         ['vis',\n",
       "          [{'t': 'His gambling problem {it}busted up{/it} their marriage.'},\n",
       "           {'t': 'The police {it}busted{/it} the party {it}up{/it}.'}]]]}]]]}],\n",
       "  'shortdef': ['to end a relationship with someone',\n",
       "   'to cause (something) to end']},\n",
       " {'meta': {'id': 'bust-up',\n",
       "   'uuid': 'db572ff4-3d28-44f0-8a4a-81f9f52fb462',\n",
       "   'sort': '3002572000',\n",
       "   'src': 'ld',\n",
       "   'section': 'idioms',\n",
       "   'stems': ['bust-up'],\n",
       "   'offensive': False},\n",
       "  'hwi': {'hw': 'bust-up'},\n",
       "  'fl': 'noun',\n",
       "  'def': [{'sls': ['informal'],\n",
       "    'sseq': [[['sense',\n",
       "       {'sn': '1',\n",
       "        'dt': [['text',\n",
       "          '{bc}the end of a relationship, marriage, etc. {bc}breakup '],\n",
       "         ['vis', [{'t': 'the {it}bust-up{/it} of their marriage'}]]]}]],\n",
       "     [['sense',\n",
       "       {'sn': '2',\n",
       "        'sls': ['British'],\n",
       "        'dt': [['text',\n",
       "          '{bc}a very bad argument or disagreement {bc}quarrel or fight '],\n",
       "         ['vis', [{'t': 'They had a {it}bust-up{/it} over money.'}]]]}]]]}],\n",
       "  'shortdef': ['the end of a relationship, marriage, etc. : breakup',\n",
       "   'a very bad argument or disagreement : quarrel or fight']},\n",
       " {'meta': {'id': 'baby bust',\n",
       "   'uuid': 'fa72f240-9ab1-4101-86a9-2fbf4b802362',\n",
       "   'sort': '020003500',\n",
       "   'src': 'collegiate',\n",
       "   'section': 'alpha',\n",
       "   'stems': ['baby bust', 'baby buster', 'baby busters', 'baby busts'],\n",
       "   'offensive': False},\n",
       "  'hwi': {'hw': 'baby bust'},\n",
       "  'fl': 'noun',\n",
       "  'def': [{'sseq': [[['sense',\n",
       "       {'dt': [['text', '{bc}a marked decline in birth rate']]}]]]}],\n",
       "  'uros': [{'ure': 'baby buster', 'fl': 'noun'}],\n",
       "  'date': '1966',\n",
       "  'shortdef': ['a marked decline in birth rate']}]"
      ]
     },
     "execution_count": 19,
     "metadata": {},
     "output_type": "execute_result"
    }
   ],
   "source": [
    "data"
   ]
  },
  {
   "cell_type": "code",
   "execution_count": 20,
   "metadata": {},
   "outputs": [
    {
     "data": {
      "text/plain": [
       "'a sculptured representation of the upper part of the human figure including the head and neck and usually part of the shoulders and breast'"
      ]
     },
     "execution_count": 20,
     "metadata": {},
     "output_type": "execute_result"
    }
   ],
   "source": [
    "data[0]['shortdef'][0]"
   ]
  },
  {
   "cell_type": "code",
   "execution_count": 21,
   "metadata": {},
   "outputs": [
    {
     "data": {
      "text/plain": [
       "'bust_101'"
      ]
     },
     "execution_count": 21,
     "metadata": {},
     "output_type": "execute_result"
    }
   ],
   "source": [
    "audio = data[0]['hwi']['prs'][0]['sound']['audio']\n",
    "\n",
    "audio"
   ]
  },
  {
   "cell_type": "code",
   "execution_count": 26,
   "metadata": {},
   "outputs": [],
   "source": [
    "if audio[:3] == 'bix':\n",
    "    subD = 'bix'\n",
    "elif audio[:2] == 'gg':\n",
    "    subD = 'gg'\n",
    "elif audio[0] in '!\"#$%&\\'()*+,-./:;<=>?@[\\\\]^_`{|}~1234567890':\n",
    "    subD = 'number'\n",
    "else:\n",
    "    subD = audio[0]\n",
    "\n",
    "fileFormat = 'wav'"
   ]
  },
  {
   "cell_type": "code",
   "execution_count": 27,
   "metadata": {},
   "outputs": [],
   "source": [
    "audio_url = f\"https://media.merriam-webster.com/audio/prons/en/us/{fileFormat}/{subD}/{audio}.{fileFormat}\""
   ]
  },
  {
   "cell_type": "code",
   "execution_count": 28,
   "metadata": {},
   "outputs": [
    {
     "data": {
      "text/plain": [
       "'https://media.merriam-webster.com/audio/prons/en/us/wav/b/bust_101.wav'"
      ]
     },
     "execution_count": 28,
     "metadata": {},
     "output_type": "execute_result"
    }
   ],
   "source": [
    "audio_url"
   ]
  },
  {
   "cell_type": "code",
   "execution_count": 24,
   "metadata": {},
   "outputs": [
    {
     "data": {
      "text/plain": [
       "True"
      ]
     },
     "execution_count": 24,
     "metadata": {},
     "output_type": "execute_result"
    }
   ],
   "source": [
    "webbrowser.open_new_tab(audio_url)"
   ]
  },
  {
   "cell_type": "code",
   "execution_count": 95,
   "metadata": {},
   "outputs": [],
   "source": [
    "fileDL = requests.get(audio_url)"
   ]
  },
  {
   "cell_type": "code",
   "execution_count": 96,
   "metadata": {},
   "outputs": [
    {
     "data": {
      "text/plain": [
       "{'Content-Type': 'audio/mpeg', 'Content-Length': '7551', 'Connection': 'keep-alive', 'Date': 'Wed, 03 Aug 2022 12:10:23 GMT', 'Last-Modified': 'Mon, 21 Oct 2019 20:41:19 GMT', 'ETag': '\"f91492091e4182010c66e258a10f8bbb\"', 'Cache-Control': 'max-age=31556926', 'Accept-Ranges': 'bytes', 'Server': 'AmazonS3', 'X-Cache': 'Hit from cloudfront', 'Via': '1.1 11928875e072fa46f6185840ed222a20.cloudfront.net (CloudFront)', 'X-Amz-Cf-Pop': 'TXL50-P1', 'X-Amz-Cf-Id': 'C_NLMuZU0zJmK1WlYYXhTkD2nYWT05q0w7obA8jdjsKyaqF772_5OQ==', 'Age': '25345'}"
      ]
     },
     "execution_count": 96,
     "metadata": {},
     "output_type": "execute_result"
    }
   ],
   "source": [
    "fileDL.headers"
   ]
  },
  {
   "cell_type": "code",
   "execution_count": 97,
   "metadata": {},
   "outputs": [
    {
     "data": {
      "text/plain": [
       "7551"
      ]
     },
     "execution_count": 97,
     "metadata": {},
     "output_type": "execute_result"
    }
   ],
   "source": [
    "open('../Dump/' + audio + '.' + fileFormat, 'wb').write(fileDL.content)"
   ]
  },
  {
   "cell_type": "code",
   "execution_count": 98,
   "metadata": {},
   "outputs": [
    {
     "data": {
      "text/plain": [
       "'https://media.merriam-webster.com/audio/prons/en/us/mp3/number/9worce01.mp3'"
      ]
     },
     "execution_count": 98,
     "metadata": {},
     "output_type": "execute_result"
    }
   ],
   "source": [
    "audio_url"
   ]
  },
  {
   "cell_type": "code",
   "execution_count": null,
   "metadata": {},
   "outputs": [],
   "source": []
  }
 ],
 "metadata": {
  "kernelspec": {
   "display_name": "Python 3.10.4 ('twilio')",
   "language": "python",
   "name": "python3"
  },
  "language_info": {
   "codemirror_mode": {
    "name": "ipython",
    "version": 3
   },
   "file_extension": ".py",
   "mimetype": "text/x-python",
   "name": "python",
   "nbconvert_exporter": "python",
   "pygments_lexer": "ipython3",
   "version": "3.10.4"
  },
  "orig_nbformat": 4,
  "vscode": {
   "interpreter": {
    "hash": "ec393829863e4816aa86f5df602f8ce0c23945bbf07607e08ebd8492d2cf7242"
   }
  }
 },
 "nbformat": 4,
 "nbformat_minor": 2
}
