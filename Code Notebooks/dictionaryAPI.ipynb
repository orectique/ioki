{
 "cells": [
  {
   "cell_type": "code",
   "execution_count": 67,
   "metadata": {},
   "outputs": [
    {
     "data": {
      "text/plain": [
       "True"
      ]
     },
     "execution_count": 67,
     "metadata": {},
     "output_type": "execute_result"
    }
   ],
   "source": [
    "import os\n",
    "import requests\n",
    "import json\n",
    "import webbrowser\n",
    "from dotenv import load_dotenv\n",
    "\n",
    "load_dotenv()"
   ]
  },
  {
   "cell_type": "code",
   "execution_count": 68,
   "metadata": {},
   "outputs": [],
   "source": [
    "DIC_API_KEY = os.getenv(\"DICTIONARY_KEY\")"
   ]
  },
  {
   "cell_type": "code",
   "execution_count": 78,
   "metadata": {},
   "outputs": [],
   "source": [
    "word = 'worcestershire sauce'\n",
    "\n",
    "url = f'https://www.dictionaryapi.com/api/v3/references/collegiate/json/{word.lower()}?key={DIC_API_KEY}'"
   ]
  },
  {
   "cell_type": "code",
   "execution_count": 79,
   "metadata": {},
   "outputs": [],
   "source": [
    "response = requests.get(url)"
   ]
  },
  {
   "cell_type": "code",
   "execution_count": 80,
   "metadata": {},
   "outputs": [],
   "source": [
    "data = response.json()"
   ]
  },
  {
   "cell_type": "code",
   "execution_count": 81,
   "metadata": {},
   "outputs": [
    {
     "data": {
      "text/plain": [
       "'9worce01'"
      ]
     },
     "execution_count": 81,
     "metadata": {},
     "output_type": "execute_result"
    }
   ],
   "source": [
    "audio = data[0]['hwi']['prs'][0]['sound']['audio']\n",
    "\n",
    "audio"
   ]
  },
  {
   "cell_type": "code",
   "execution_count": 91,
   "metadata": {},
   "outputs": [],
   "source": [
    "if audio[:3] == 'bix':\n",
    "    subD = 'bix'\n",
    "elif audio[:2] == 'gg':\n",
    "    subD = 'gg'\n",
    "elif audio[0] in '!\"#$%&\\'()*+,-./:;<=>?@[\\\\]^_`{|}~1234567890':\n",
    "    subD = 'number'\n",
    "else:\n",
    "    subD = audio[0]\n",
    "\n",
    "fileFormat = 'mp3'"
   ]
  },
  {
   "cell_type": "code",
   "execution_count": 92,
   "metadata": {},
   "outputs": [],
   "source": [
    "audio_url = f\"https://media.merriam-webster.com/audio/prons/en/us/{fileFormat}/{subD}/{audio}.{fileFormat}\""
   ]
  },
  {
   "cell_type": "code",
   "execution_count": 94,
   "metadata": {},
   "outputs": [],
   "source": [
    "#webbrowser.open_new_tab(audio_url)"
   ]
  },
  {
   "cell_type": "code",
   "execution_count": 95,
   "metadata": {},
   "outputs": [],
   "source": [
    "fileDL = requests.get(audio_url)"
   ]
  },
  {
   "cell_type": "code",
   "execution_count": 96,
   "metadata": {},
   "outputs": [
    {
     "data": {
      "text/plain": [
       "{'Content-Type': 'audio/mpeg', 'Content-Length': '7551', 'Connection': 'keep-alive', 'Date': 'Wed, 03 Aug 2022 12:10:23 GMT', 'Last-Modified': 'Mon, 21 Oct 2019 20:41:19 GMT', 'ETag': '\"f91492091e4182010c66e258a10f8bbb\"', 'Cache-Control': 'max-age=31556926', 'Accept-Ranges': 'bytes', 'Server': 'AmazonS3', 'X-Cache': 'Hit from cloudfront', 'Via': '1.1 11928875e072fa46f6185840ed222a20.cloudfront.net (CloudFront)', 'X-Amz-Cf-Pop': 'TXL50-P1', 'X-Amz-Cf-Id': 'C_NLMuZU0zJmK1WlYYXhTkD2nYWT05q0w7obA8jdjsKyaqF772_5OQ==', 'Age': '25345'}"
      ]
     },
     "execution_count": 96,
     "metadata": {},
     "output_type": "execute_result"
    }
   ],
   "source": [
    "fileDL.headers"
   ]
  },
  {
   "cell_type": "code",
   "execution_count": 97,
   "metadata": {},
   "outputs": [
    {
     "data": {
      "text/plain": [
       "7551"
      ]
     },
     "execution_count": 97,
     "metadata": {},
     "output_type": "execute_result"
    }
   ],
   "source": [
    "open('../Dump/' + audio + '.' + fileFormat, 'wb').write(fileDL.content)"
   ]
  },
  {
   "cell_type": "code",
   "execution_count": 98,
   "metadata": {},
   "outputs": [
    {
     "data": {
      "text/plain": [
       "'https://media.merriam-webster.com/audio/prons/en/us/mp3/number/9worce01.mp3'"
      ]
     },
     "execution_count": 98,
     "metadata": {},
     "output_type": "execute_result"
    }
   ],
   "source": [
    "audio_url"
   ]
  },
  {
   "cell_type": "code",
   "execution_count": null,
   "metadata": {},
   "outputs": [],
   "source": []
  }
 ],
 "metadata": {
  "kernelspec": {
   "display_name": "Python 3.10.4 ('twilio')",
   "language": "python",
   "name": "python3"
  },
  "language_info": {
   "codemirror_mode": {
    "name": "ipython",
    "version": 3
   },
   "file_extension": ".py",
   "mimetype": "text/x-python",
   "name": "python",
   "nbconvert_exporter": "python",
   "pygments_lexer": "ipython3",
   "version": "3.10.4"
  },
  "orig_nbformat": 4,
  "vscode": {
   "interpreter": {
    "hash": "ec393829863e4816aa86f5df602f8ce0c23945bbf07607e08ebd8492d2cf7242"
   }
  }
 },
 "nbformat": 4,
 "nbformat_minor": 2
}
