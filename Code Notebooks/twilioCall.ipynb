{
 "cells": [
  {
   "cell_type": "code",
   "execution_count": 1,
   "metadata": {},
   "outputs": [],
   "source": [
    "from twilio.twiml.voice_response import VoiceResponse, Say"
   ]
  },
  {
   "cell_type": "code",
   "execution_count": 47,
   "metadata": {},
   "outputs": [],
   "source": [
    "address = 'https://media.merriam-webster.com/audio/prons/en/us/wav/number/9worce01.wav'"
   ]
  },
  {
   "cell_type": "code",
   "execution_count": 48,
   "metadata": {},
   "outputs": [
    {
     "name": "stdout",
     "output_type": "stream",
     "text": [
      "<?xml version=\"1.0\" encoding=\"UTF-8\"?><Response><Say language=\"en-US\" voice=\"woman\">Hello. This is how the requested word is pronounced.</Say><Pause length=\"1\" /><Play>https://media.merriam-webster.com/audio/prons/en/us/wav/number/9worce01.wav</Play><Pause length=\"1\" /><Say>Again!</Say><Pause length=\"1\" /><Play>https://media.merriam-webster.com/audio/prons/en/us/wav/number/9worce01.wav</Play><Pause length=\"1\" /><Say>Again!</Say><Pause length=\"1\" /><Play>https://media.merriam-webster.com/audio/prons/en/us/wav/number/9worce01.wav</Play><Pause length=\"1\" /><Say language=\"en-US\" voice=\"woman\">Have a great day!!</Say></Response>\n"
     ]
    }
   ],
   "source": [
    "response = VoiceResponse()\n",
    "response.say('Hello. This is how the requested word is pronounced.', voice='woman', language='en-US')\n",
    "response.pause(length=1)\n",
    "response.play(address)\n",
    "response.pause(length=1)\n",
    "response.say('Again!')\n",
    "response.pause(length=1)\n",
    "response.play(address)\n",
    "response.pause(length=1)\n",
    "response.say('Again!')\n",
    "response.pause(length=1)\n",
    "response.play(address)\n",
    "response.pause(length=1)\n",
    "response.say('Have a great day!!', voice='woman', language='en-US')\n",
    "\n",
    "print(response)"
   ]
  },
  {
   "cell_type": "code",
   "execution_count": 49,
   "metadata": {},
   "outputs": [
    {
     "data": {
      "text/plain": [
       "True"
      ]
     },
     "execution_count": 49,
     "metadata": {},
     "output_type": "execute_result"
    }
   ],
   "source": [
    "import os\n",
    "from twilio.rest import Client\n",
    "from dotenv import load_dotenv\n",
    "\n",
    "load_dotenv()"
   ]
  },
  {
   "cell_type": "code",
   "execution_count": 50,
   "metadata": {},
   "outputs": [
    {
     "name": "stdout",
     "output_type": "stream",
     "text": [
      "AC4bced6dcf2ba99441f491f9354a784d9 e53d0b4d07711ac8c08cbed91e481cd6\n"
     ]
    }
   ],
   "source": [
    "# Find your Account SID and Auth Token at twilio.com/console\n",
    "# and set the environment variables. See http://twil.io/secure\n",
    "account_sid = os.environ['TWILIO_ACCOUNT_SID']\n",
    "auth_token = os.environ['TWILIO_AUTH_TOKEN']\n",
    "\n",
    "print(account_sid, auth_token)"
   ]
  },
  {
   "cell_type": "code",
   "execution_count": 39,
   "metadata": {},
   "outputs": [],
   "source": [
    "tempAddress = 'Bob'"
   ]
  },
  {
   "cell_type": "code",
   "execution_count": 51,
   "metadata": {},
   "outputs": [],
   "source": [
    "targetURL = f'https://handler.twilio.com/twiml/EH56a431902c78a869620e74237677bcb3?target={address}'\n",
    "\n",
    "#https://handler.twilio.com/twiml/EH56a431902c78a869620e74237677bcb3"
   ]
  },
  {
   "cell_type": "code",
   "execution_count": 52,
   "metadata": {},
   "outputs": [
    {
     "name": "stdout",
     "output_type": "stream",
     "text": [
      "CA09a3994ab31bbfbe543d859ed5f8bb9e\n"
     ]
    }
   ],
   "source": [
    "client = Client(account_sid, auth_token)\n",
    "\n",
    "call = client.calls.create(\n",
    "                        url=targetURL,\n",
    "                        to='+919488458712',\n",
    "                        from_='+19592711954'\n",
    "\n",
    "                    )\n",
    "\n",
    "print(call.sid)"
   ]
  },
  {
   "cell_type": "code",
   "execution_count": null,
   "metadata": {},
   "outputs": [],
   "source": []
  }
 ],
 "metadata": {
  "kernelspec": {
   "display_name": "Python 3.10.4 ('twilio')",
   "language": "python",
   "name": "python3"
  },
  "language_info": {
   "codemirror_mode": {
    "name": "ipython",
    "version": 3
   },
   "file_extension": ".py",
   "mimetype": "text/x-python",
   "name": "python",
   "nbconvert_exporter": "python",
   "pygments_lexer": "ipython3",
   "version": "3.10.4"
  },
  "orig_nbformat": 4,
  "vscode": {
   "interpreter": {
    "hash": "ec393829863e4816aa86f5df602f8ce0c23945bbf07607e08ebd8492d2cf7242"
   }
  }
 },
 "nbformat": 4,
 "nbformat_minor": 2
}
